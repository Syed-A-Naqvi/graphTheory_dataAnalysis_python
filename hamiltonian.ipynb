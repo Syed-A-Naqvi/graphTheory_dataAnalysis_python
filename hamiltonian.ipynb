{
 "cells": [
  {
   "cell_type": "code",
   "execution_count": 1,
   "metadata": {},
   "outputs": [],
   "source": [
    "import networkx as nx\n",
    "import numpy as np\n",
    "import matplotlib.pyplot as plt"
   ]
  },
  {
   "cell_type": "code",
   "execution_count": 7,
   "metadata": {},
   "outputs": [],
   "source": [
    "def nextNode(currCycle, v, A):\n",
    "    \n",
    "    while True:\n",
    "        currCycle[v] = (currCycle[v]+1)%(len(A[0,:]))\n",
    "        \n",
    "\n",
    "def getCycles(cycles, currCycle, v, A):\n",
    "    \n",
    "    while True:\n",
    "        nextNode(currCycle, v, A)\n",
    "\n",
    "def hamiltonian_cycle(T):\n",
    "    \n",
    "    G = nx.graph()\n",
    "    A = nx.to_numpy_array(G)\n",
    "    \n",
    "    cycles = []\n",
    "    \n",
    "    currCycle = []\n",
    "    \n",
    "    \n",
    "    \n",
    "    "
   ]
  },
  {
   "cell_type": "code",
   "execution_count": 6,
   "metadata": {},
   "outputs": [
    {
     "name": "stdout",
     "output_type": "stream",
     "text": [
      "[0. 0. 0. 0. 0. 0. 0. 0. 0. 0.]\n"
     ]
    }
   ],
   "source": [
    "currCycle = np.zeros((10,))\n",
    "\n",
    "print(currCycle)"
   ]
  }
 ],
 "metadata": {
  "kernelspec": {
   "display_name": "base",
   "language": "python",
   "name": "python3"
  },
  "language_info": {
   "codemirror_mode": {
    "name": "ipython",
    "version": 3
   },
   "file_extension": ".py",
   "mimetype": "text/x-python",
   "name": "python",
   "nbconvert_exporter": "python",
   "pygments_lexer": "ipython3",
   "version": "3.11.4"
  }
 },
 "nbformat": 4,
 "nbformat_minor": 2
}
